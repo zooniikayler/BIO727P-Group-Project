{
 "cells": [
  {
   "cell_type": "code",
   "execution_count": null,
   "metadata": {},
   "outputs": [],
   "source": [
    "import pandas as pd\n",
    "\n",
    "df = pd.read_csv(\"Phosphorylation_site_dataset.tsv\", delimiter=\"\\t\")\n",
    "df = df[df.ORGANISM == 'human']\n",
    "df_sub = pd.read_csv('SubstrateFINAL.csv') \n",
    "#This is the list of phosphosites I've gotten locations for\n",
    "\n",
    "subs = list(df_sub.SUB_ACC_ID)\n",
    "df_new=df[df['ACC_ID'].isin(subs)]\n",
    "#df_new has only our phosphosites in it\n",
    "\n",
    "df_new.to_csv(\"ps_location.csv\")"
   ]
  },
  {
   "cell_type": "code",
   "execution_count": null,
   "metadata": {},
   "outputs": [],
   "source": [
    "del df['GENE']\n",
    "del df['PROTEIN']\n",
    "del df['SITE_GRP_ID']\n",
    "del df['ORGANISM']\n",
    "del df['MW_kD']\n",
    "del df['DOMAIN']\n",
    "del df['SITE_+/-7_AA']\n",
    "del df['LT_LIT']\n",
    "del df['MS_LIT']\n",
    "del df['MS_CST']\n",
    "del df['CST_CAT#']\n",
    "del df['MOD_RSD']"
   ]
  },
  {
   "cell_type": "code",
   "execution_count": null,
   "metadata": {},
   "outputs": [],
   "source": [
    "df_next = df.join(df_sub.set_index([\"SUB_ACC_ID\"]), on = ['ACC_ID'])\n",
    "\n",
    "df_duplicates_removed = pd.DataFrame.drop_duplicates(df_next)\n",
    "\n",
    "df_noNan = df_duplicates_removed.dropna(subset = ['KIN_ACC_ID'])\n",
    "\n",
    "df_noNan['SUBSTRATE'] = df_noNan['SUBSTRATE'].str.upper()\n",
    "\n",
    "df_noNan['KINASE'] = df_noNan['KINASE'].str.upper()\n",
    "\n",
    "\n",
    "df_noNan\n",
    "\n",
    "df_noNan.to_csv(\"substrate_locations_added.csv\")"
   ]
  }
 ],
 "metadata": {
  "kernelspec": {
   "display_name": "Python 3",
   "language": "python",
   "name": "python3"
  },
  "language_info": {
   "codemirror_mode": {
    "name": "ipython",
    "version": 3
   },
   "file_extension": ".py",
   "mimetype": "text/x-python",
   "name": "python",
   "nbconvert_exporter": "python",
   "pygments_lexer": "ipython3",
   "version": "3.7.1"
  }
 },
 "nbformat": 4,
 "nbformat_minor": 2
}
