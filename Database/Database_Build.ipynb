{
 "cells": [
  {
   "cell_type": "code",
   "execution_count": 1,
   "metadata": {},
   "outputs": [],
   "source": [
    "import sqlite3,csv # Importing the required modules"
   ]
  },
  {
   "cell_type": "code",
   "execution_count": 2,
   "metadata": {},
   "outputs": [],
   "source": [
    "conn = sqlite3.connect(\"final_db.db\") #Creates the databasefile in memory\n",
    "\n",
    "c = conn.cursor() #cursor object that connects to the database"
   ]
  },
  {
   "cell_type": "code",
   "execution_count": 3,
   "metadata": {},
   "outputs": [
    {
     "data": {
      "text/plain": [
       "<sqlite3.Cursor at 0x15059ab20a0>"
      ]
     },
     "execution_count": 3,
     "metadata": {},
     "output_type": "execute_result"
    }
   ],
   "source": [
    "# Creating the table for the general kinase inforamtion\n",
    "c.execute(\"\"\"CREATE TABLE KinaseInfo(\n",
    "          Unique_ID INTEGER PRIMARY KEY,\n",
    "          Uniprot_Accession_Number TEXT NOT NULL,\n",
    "          Kinase_Symbol VARCHAR(20) NOT NULL,\n",
    "          Kinase_Name VARCHAR(150) NOT NULL,\n",
    "          Groups TEXT,\n",
    "          Family VARCHAR(20),\n",
    "          SubFamily VARCHAR(20),\n",
    "          Synonym VARVHAR(100),\n",
    "          Function TEXT,\n",
    "          Genomic_Location TEXT,\n",
    "          Subcellular_Location TEXT,\n",
    "          PDB_Image_link TEXT)\n",
    "          \"\"\")"
   ]
  },
  {
   "cell_type": "code",
   "execution_count": 4,
   "metadata": {},
   "outputs": [],
   "source": [
    "#Populating the general kinase inforamation table\n",
    "with open('KinaseInfoFINAL.csv','r') as KTable: \n",
    "    dr1 = csv.DictReader(KTable) # Uses first line in file as column headings\n",
    "    to_db1 = [(i['Unique_ID'], \n",
    "              i['Uniprot_Accession_Number'],\n",
    "              i['Kinase_Symbol '],\n",
    "              i['Kinase_Name'],\n",
    "              i['Group'],\n",
    "              i['Family'], \n",
    "              i['SubFamily'], \n",
    "              i['Synonym'], \n",
    "              i['Function'], \n",
    "              i['Genomic_location'], \n",
    "              i['Subcellular_location'], \n",
    "              i['PDB_image_link']) for i in dr1]\n",
    "    \n",
    "c.executemany(\"INSERT INTO KinaseInfo(Unique_ID,Uniprot_Accession_Number,Kinase_Symbol,Kinase_Name, Groups, Family, SubFamily,Synonym,Function,Genomic_Location, Subcellular_Location, PDB_Image_link) VALUES (?,?,?,?,?,?,?,?,?,?,?,?);\", to_db1)\n",
    "\n",
    "conn.commit() # saves the chages to the database"
   ]
  },
  {
   "cell_type": "code",
   "execution_count": 5,
   "metadata": {},
   "outputs": [
    {
     "data": {
      "text/plain": [
       "<sqlite3.Cursor at 0x15059ab20a0>"
      ]
     },
     "execution_count": 5,
     "metadata": {},
     "output_type": "execute_result"
    }
   ],
   "source": [
    "# Creating the table for the inhibtor reference\n",
    "c.execute(\"\"\"CREATE TABLE InhibitorRef(\n",
    "           InhibitorRef_ID INTEGER PRIMARY KEY,\n",
    "           CHEMBL_ID TEXT,\n",
    "           Kinase_Target TEXT,\n",
    "           FOREIGN KEY(Kinase_Target) REFERENCES KinaseInfo(Kinase_Symbol)\n",
    "           )\"\"\")"
   ]
  },
  {
   "cell_type": "code",
   "execution_count": 6,
   "metadata": {},
   "outputs": [],
   "source": [
    "#Populating the table for the inhibitor reference table\n",
    "with open('Inhibitor_refFINAL.csv','r') as IRTable:\n",
    "    dr2 = csv.DictReader(IRTable) # Uses first line in file as column headings\n",
    "    to_db2 = [(i['Inhibitor_RefID'],\n",
    "               i['CHEMBL_ID'],\n",
    "               i['Kinase_Target']) for i in dr2]\n",
    "    \n",
    "c.executemany(\"INSERT INTO InhibitorRef(InhibitorRef_ID,CHEMBL_ID,Kinase_Target) VALUES (?,?,?);\", to_db2)\n",
    "\n",
    "conn.commit() # saves the chages to the database"
   ]
  },
  {
   "cell_type": "code",
   "execution_count": 7,
   "metadata": {},
   "outputs": [
    {
     "data": {
      "text/plain": [
       "<sqlite3.Cursor at 0x15059ab20a0>"
      ]
     },
     "execution_count": 7,
     "metadata": {},
     "output_type": "execute_result"
    }
   ],
   "source": [
    "#Creating the table for the information on the inhibitors\n",
    "c.execute(\"\"\"CREATE TABLE Inhibitor_Info(\n",
    "            Inhibitor_Name TEXT PRIMARY KEY,\n",
    "            CHEMBLID TEXT,\n",
    "            Smiles TEXT,\n",
    "            InCHI_Key TEXT,\n",
    "            RoF INTEGER,\n",
    "            MW NUMERIC,\n",
    "            LogP NUMERIC,\n",
    "            TPSA NUMERIC,\n",
    "            HBA NUMERIC,\n",
    "            HBD NUMERIC,\n",
    "            NRB NUMERIC,\n",
    "            Kinase_Families TEXT,\n",
    "            Image_link TEXT,\n",
    "            FOREIGN KEY(CHEMBLID) REFERENCES InhibitorRef(CHEMBL_ID)\n",
    "            )\"\"\")"
   ]
  },
  {
   "cell_type": "code",
   "execution_count": 8,
   "metadata": {},
   "outputs": [],
   "source": [
    "#Populating the Inhibitor_info table\n",
    "with open('Inhibitor_InfoFINAL.csv','r') as IITable:\n",
    "    dr3 = csv.DictReader(IITable) # Uses first line in file as column headings\n",
    "    to_db3 = [(i['INN_Name'],\n",
    "               i['CHEMBL_ID'],\n",
    "               i['Smiles'],\n",
    "               i['InChi_Key'],\n",
    "               i['RoF'],\n",
    "               i['MW'], \n",
    "               i['LogP'], \n",
    "               i['TPSA'], \n",
    "               i['HBA'], \n",
    "               i['HBD'], \n",
    "               i['NRB'], \n",
    "               i['Kinase families'], \n",
    "               i['image_link']) for i in dr3]\n",
    "    \n",
    "c.executemany(\"INSERT INTO Inhibitor_Info(Inhibitor_Name,CHEMBLID,Smiles,InCHI_Key,RoF,MW,LogP,TPSA,HBA,HBD,NRB,Kinase_Families,Image_link) VALUES (?,?,?,?,?,?,?,?,?,?,?,?,?);\", to_db3)\n",
    "\n",
    "conn.commit() # saves the chages to the database"
   ]
  },
  {
   "cell_type": "code",
   "execution_count": 9,
   "metadata": {},
   "outputs": [
    {
     "data": {
      "text/plain": [
       "<sqlite3.Cursor at 0x15059ab20a0>"
      ]
     },
     "execution_count": 9,
     "metadata": {},
     "output_type": "execute_result"
    }
   ],
   "source": [
    "# Creating the table for the substrate information\n",
    "c.execute(\"\"\"CREATE TABLE Substrate(\n",
    "            Substrate_ID INTEGER PRIMARY KEY NOT NULL,\n",
    "            Kin_ACC_ID TEXT NOT NULL,\n",
    "            Kin_Gene TEXT,\n",
    "            Kinase TEXT NOT NULL,\n",
    "            Substrate TEXT NOT NULL,\n",
    "            Sub_ACC_ID TEXT NOT NULL,\n",
    "            Sub_Gene TEXT NOT NULL,\n",
    "            Sub_Mod_Rsd TEXT NOT NULL,\n",
    "            Site_AA VARCHAR(25),\n",
    "            Sub_Domain TEXT,\n",
    "            FOREIGN KEY (Kinase) REFERENCES KinaseInfo(Kinase_Symbol)\n",
    "            )\"\"\")"
   ]
  },
  {
   "cell_type": "code",
   "execution_count": 10,
   "metadata": {},
   "outputs": [],
   "source": [
    "#Populating the substrate table\n",
    "with open('Substrate_FINAL.csv','r') as STable:\n",
    "    dr4 = csv.DictReader(STable) # Uses first line in file as column headings\n",
    "    to_db4 = [(i['SUBSTRATE_ID'],\n",
    "               i['KIN_ACC_ID'],\n",
    "               i['KIN_GENE'],\n",
    "               i['KINASE'],\n",
    "               i['SUBSTRATE'],\n",
    "               i['SUB_ACC_ID'], \n",
    "               i['SUB_GENE'], \n",
    "               i['SUB_MOD_RSD'], \n",
    "               i['SITE_+/-7_AA'], \n",
    "               i['SUB_DOMAIN']) for i in dr4]\n",
    "    \n",
    "c.executemany(\"INSERT INTO Substrate(Substrate_ID,Kin_ACC_ID,Kin_Gene,Kinase,Substrate,Sub_ACC_ID,Sub_Gene,Sub_Mod_Rsd,Site_AA,Sub_Domain) VALUES (?,?,?,?,?,?,?,?,?,?);\", to_db4)\n",
    "\n",
    "conn.commit() # saves the chages to the database"
   ]
  },
  {
   "cell_type": "code",
   "execution_count": 11,
   "metadata": {},
   "outputs": [
    {
     "data": {
      "text/plain": [
       "<sqlite3.Cursor at 0x15059ab20a0>"
      ]
     },
     "execution_count": 11,
     "metadata": {},
     "output_type": "execute_result"
    }
   ],
   "source": [
    "#joining tables using the foreign key\n",
    "\n",
    "c.execute(\"SELECT Kinase_Symbol FROM KinaseInfo INNER JOIN Substrate ON Substrate.Kinase = KinaseInfo.Kinase_Symbol ;\")\n",
    "c.execute(\"SELECT Kinase_Symbol FROM KinaseInfo INNER JOIN InhibitorRef ON InhibitorRef.Kinase_Target = KinaseInfo.Kinase_Symbol ;\")\n",
    "c.execute(\"SELECT CHEMBL_ID FROM InhibitorRef INNER JOIN Inhibitor_Info ON Inhibitor_Info.CHEMBLID = InhibitorRef.CHEMBL_ID ;\")"
   ]
  },
  {
   "cell_type": "code",
   "execution_count": 12,
   "metadata": {},
   "outputs": [],
   "source": [
    "conn.close() # Connection must be closed at the end"
   ]
  }
 ],
 "metadata": {
  "kernelspec": {
   "display_name": "Python 3",
   "language": "python",
   "name": "python3"
  },
  "language_info": {
   "codemirror_mode": {
    "name": "ipython",
    "version": 3
   },
   "file_extension": ".py",
   "mimetype": "text/x-python",
   "name": "python",
   "nbconvert_exporter": "python",
   "pygments_lexer": "ipython3",
   "version": "3.7.4"
  }
 },
 "nbformat": 4,
 "nbformat_minor": 2
}
